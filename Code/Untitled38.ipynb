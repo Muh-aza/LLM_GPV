{
  "nbformat": 4,
  "nbformat_minor": 0,
  "metadata": {
    "colab": {
      "provenance": []
    },
    "kernelspec": {
      "name": "python3",
      "display_name": "Python 3"
    },
    "language_info": {
      "name": "python"
    }
  },
  "cells": [
    {
      "cell_type": "code",
      "execution_count": null,
      "metadata": {
        "id": "Bw0I7BbMEPm8"
      },
      "outputs": [],
      "source": [
        "import pandas as pd\n",
        "\n",
        "# File paths\n",
        "roles_path = \"/content/drive/MyDrive/roles.csv\"\n",
        "aims_path = \"/content/drive/MyDrive/aims.csv\"\n",
        "instructions_path = \"/content/drive/MyDrive/instructions.csv\"\n",
        "descriptions_path = \"/content/drive/MyDrive/descriptions.csv\"\n",
        "\n",
        "# Load CSV files\n",
        "roles_df = pd.read_csv(roles_path)\n",
        "aims_df = pd.read_csv(aims_path)\n",
        "instructions_df = pd.read_csv(instructions_path)\n",
        "descriptions_df = pd.read_csv(descriptions_path)\n",
        "\n",
        "# Ensure all dataframes have at least the same number of rows by repeating values if necessary\n",
        "max_length = max(len(roles_df), len(aims_df), len(instructions_df), len(descriptions_df))\n",
        "\n",
        "roles_df = roles_df.sample(n=max_length, replace=True).reset_index(drop=True)\n",
        "aims_df = aims_df.sample(n=max_length, replace=True).reset_index(drop=True)\n",
        "instructions_df = instructions_df.sample(n=max_length, replace=True).reset_index(drop=True)\n",
        "descriptions_df = descriptions_df.sample(n=max_length, replace=True).reset_index(drop=True)\n",
        "\n",
        "# Combine all data into a single DataFrame\n",
        "merged_df = pd.DataFrame({\n",
        "    \"Roles\": roles_df.iloc[:, 0],\n",
        "    \"Aims\": aims_df.iloc[:, 0],\n",
        "    \"Instructions\": instructions_df.iloc[:, 0],\n",
        "    \"Descriptions\": descriptions_df.iloc[:, 0]\n",
        "})\n",
        "\n",
        "# Save as CSV file\n",
        "merged_csv_path = \"/content/drive/MyDrive/marge-all.csv\"\n",
        "merged_df.to_csv(merged_csv_path, index=False)\n",
        "\n",
        "# Display the CSV file to the user\n",
        "import ace_tools as tools\n",
        "tools.display_dataframe_to_user(name=\"Merged Data (marge-all)\", dataframe=merged_df)"
      ]
    }
  ]
}