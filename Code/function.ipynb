{
  "cells": [
    {
      "cell_type": "code",
      "execution_count": null,
      "metadata": {
        "id": "iDmXpOtYz5y9"
      },
      "outputs": [],
      "source": [
        "import pandas as pd\n",
        "import numpy as np\n",
        "import random\n",
        "\n",
        "from typing import List, Tuple, Dict\n",
        "\n",
        "filename = \"data/adjusted.csv\""
      ]
    },
    {
      "cell_type": "code",
      "execution_count": null,
      "metadata": {
        "id": "6tMxb1s1z5zA"
      },
      "outputs": [],
      "source": [
        "\n",
        "def prepare_candidates_map() -> Dict[str, List[str]]:\n",
        "    \"\"\"\n",
        "    Prepare a map of candidates for different categories.\n",
        "\n",
        "    Returns:\n",
        "        candidates_map (Dict[str, List[str]]): A dictionary containing lists of candidates for different categories.\n",
        "            The categories include 'role', 'task', 'general_instructions', and 'user_question'.\n",
        "    \"\"\"\n",
        "\n",
        "    roles_df = pd.read_excel('roles aims/roles.xlsx')\n",
        "    general_instructions_df = pd.read_excel('roles aims/descriptions.xlsx')\n",
        "    user_questions_df = pd.read_excel('roles aims/question.xlsx')\n",
        "    task_df = pd.read_excel('roles aims/aims.xlsx')\n",
        "\n",
        "    roles_candidates = roles_df[\"roles\"].tolist()\n",
        "    general_instructions_candidates = general_instructions_df[\"general_instructions\"].tolist()\n",
        "    user_questions_candidates = user_questions_df[\"user_questions\"].tolist()\n",
        "    task_candidates = task_df[\"aims\"].tolist()\n",
        "\n",
        "    candidates_map = {\n",
        "        \"role\": roles_candidates,\n",
        "        \"task\": task_candidates,\n",
        "        \"general_instructions\": general_instructions_candidates,\n",
        "        \"user_question\": user_questions_candidates\n",
        "    }\n",
        "    return candidates_map\n",
        "\n",
        "\n",
        "def mutate_population(candidates_map: Dict[str, List[str]],\n",
        "                      population_df: pd.DataFrame,\n",
        "                      mutation_cols: pd.DataFrame):\n",
        "    \"\"\"\n",
        "    Mutates the population dataframe by randomly selecting a mutation column and assigning a random value from the\n",
        "    corresponding candidate values to each row in that column.\n",
        "\n",
        "    Args:\n",
        "        candidates_map (Dict[List[str]]): A dictionary mapping mutation columns to their corresponding candidate values.\n",
        "        population_df (pd.DataFrame): The population dataframe to be mutated.\n",
        "        mutation_cols (pd.DataFrame): The columns in the population dataframe that can be mutated.\n",
        "\n",
        "    Returns:\n",
        "        pd.DataFrame: The mutated population dataframe.\n",
        "    \"\"\"\n",
        "    picked_mutation_col = random.choice(mutation_cols)\n",
        "    candidate_values = candidates_map[picked_mutation_col]\n",
        "    population_df[picked_mutation_col] = [random.choice(candidate_values) for i in range(len(population_df))]\n",
        "    return population_df\n",
        "\n",
        "\n",
        "\n",
        "population_df = pd.read_csv(filename, encoding='latin1')\n",
        "candidates_map = prepare_candidates_map()\n",
        "\n",
        "mutation_cols = [\"role\", \"task\", \"general_instructions\", \"user_question\"]\n",
        "new_population_df = mutate_population(candidates_map, population_df, mutation_cols=mutation_cols)\n",
        "\n",
        "new_population_df"
      ]
    }
  ],
  "metadata": {
    "kernelspec": {
      "display_name": "venv_pl",
      "language": "python",
      "name": "python3"
    },
    "language_info": {
      "codemirror_mode": {
        "name": "ipython",
        "version": 3
      },
      "file_extension": ".py",
      "mimetype": "text/x-python",
      "name": "python",
      "nbconvert_exporter": "python",
      "pygments_lexer": "ipython3",
      "version": "3.8.16"
    },
    "colab": {
      "provenance": []
    }
  },
  "nbformat": 4,
  "nbformat_minor": 0
}